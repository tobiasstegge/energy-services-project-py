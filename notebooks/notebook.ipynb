{
 "cells": [
  {
   "cell_type": "code",
   "execution_count": 24,
   "id": "e1e15a0e",
   "metadata": {},
   "outputs": [],
   "source": [
    "import sys\n",
    "sys.path.append('../src/')\n",
    "\n",
    "from pandas import read_csv, to_datetime"
   ]
  },
  {
   "cell_type": "code",
   "execution_count": 39,
   "id": "d0c95370",
   "metadata": {},
   "outputs": [],
   "source": [
    "holidays_data = read_csv('../data/holiday_17_18_19.csv - holiday_17_18_19.csv')\n",
    "meteo_data = read_csv('../data/IST_meteo_data_2017_2018_2019.csv - IST_meteo_data_2017_2018_2019.csv')\n",
    "building_data_2017 = read_csv('../data/IST_South_Tower_2017_Ene_Cons.csv')\n",
    "building_data_2018 = read_csv('../data/IST_South_Tower_2018_Ene_Cons.csv')"
   ]
  },
  {
   "cell_type": "code",
   "execution_count": 44,
   "id": "731446d8",
   "metadata": {
    "scrolled": true
   },
   "outputs": [],
   "source": [
    "meteo_data['yyyy-mm-dd hh:mm:ss'] = to_datetime(meteo_data['yyyy-mm-dd hh:mm:ss'], format='%Y-%m-%d %H:%M:%S')\n",
    "meteo_data = meteo_data.set_index('yyyy-mm-dd hh:mm:ss')"
   ]
  },
  {
   "cell_type": "code",
   "execution_count": 46,
   "id": "95fd6860",
   "metadata": {},
   "outputs": [
    {
     "name": "stdout",
     "output_type": "stream",
     "text": [
      "<class 'pandas.core.frame.DataFrame'>\n",
      "DatetimeIndex: 215009 entries, 2017-01-01 00:00:00 to 2019-04-11 15:23:00\n",
      "Data columns (total 8 columns):\n",
      " #   Column         Non-Null Count   Dtype  \n",
      "---  ------         --------------   -----  \n",
      " 0   temp_C         215009 non-null  float64\n",
      " 1   HR             215009 non-null  float64\n",
      " 2   windSpeed_m/s  215009 non-null  float64\n",
      " 3   windGust_m/s   215009 non-null  float64\n",
      " 4   pres_mbar      215009 non-null  int64  \n",
      " 5   solarRad_W/m2  215009 non-null  float64\n",
      " 6   rain_mm/h      215009 non-null  float64\n",
      " 7   rain_day       215009 non-null  float64\n",
      "dtypes: float64(7), int64(1)\n",
      "memory usage: 14.8 MB\n"
     ]
    }
   ],
   "source": [
    "meteo_data.info()"
   ]
  },
  {
   "cell_type": "code",
   "execution_count": null,
   "id": "a172d507",
   "metadata": {},
   "outputs": [],
   "source": []
  },
  {
   "cell_type": "code",
   "execution_count": null,
   "id": "a8a3fcce",
   "metadata": {},
   "outputs": [],
   "source": []
  }
 ],
 "metadata": {
  "kernelspec": {
   "display_name": "Python 3 (ipykernel)",
   "language": "python",
   "name": "python3"
  },
  "language_info": {
   "codemirror_mode": {
    "name": "ipython",
    "version": 3
   },
   "file_extension": ".py",
   "mimetype": "text/x-python",
   "name": "python",
   "nbconvert_exporter": "python",
   "pygments_lexer": "ipython3",
   "version": "3.9.10"
  }
 },
 "nbformat": 4,
 "nbformat_minor": 5
}
